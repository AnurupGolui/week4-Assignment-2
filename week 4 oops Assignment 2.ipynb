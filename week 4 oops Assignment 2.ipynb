{
 "cells": [
  {
   "cell_type": "code",
   "execution_count": null,
   "id": "e9055f98-1cf8-4d18-a575-aa490c238ebd",
   "metadata": {},
   "outputs": [],
   "source": [
    "Q1. What is Abstraction in OOps? Explain with an example."
   ]
  },
  {
   "cell_type": "code",
   "execution_count": null,
   "id": "88e84bd6-0035-4239-a283-1883aa377062",
   "metadata": {},
   "outputs": [],
   "source": [
    "Objects in an OOP language provide an abstraction that hides the internal implementation details.\n",
    "One just need to know which methods of the object are available to call and which input parameters are needed to trigger \n",
    "a specific operation. But you don’t need to understand how this method is implemented and which kinds of actions it has to \n",
    "perform to create the expected result."
   ]
  },
  {
   "cell_type": "code",
   "execution_count": 1,
   "id": "fde194ec-eb16-4998-ae27-faa52082ecb7",
   "metadata": {},
   "outputs": [],
   "source": [
    "import abc\n",
    "class pwskills:\n",
    "    @abc.abstractmethod\n",
    "    def student_details(self):\n",
    "        pass\n",
    "    \n",
    "    @abc.abstractmethod\n",
    "    def assignment_details(self):\n",
    "        pass\n",
    "    \n",
    "    @abc.abstractmethod\n",
    "    def marks_dsetails(self):\n",
    "        pass\n",
    "    "
   ]
  },
  {
   "cell_type": "code",
   "execution_count": 2,
   "id": "7f121129-8f44-487f-810e-2ca01b854236",
   "metadata": {},
   "outputs": [],
   "source": [
    "class data_science(pwskills):\n",
    "    def __init__(self,name,assignment):\n",
    "        self.__name=name\n",
    "        self.__assignment=assignment\n",
    "        \n",
    "    def student_details(self):\n",
    "        return 'The name of the student is ',self.__name\n",
    "    \n",
    "    def  assignment_details(self):\n",
    "        return 'The name of the assignment is ',self.__assignment"
   ]
  },
  {
   "cell_type": "code",
   "execution_count": 3,
   "id": "cbe692fc-eaa7-4464-9501-926481a3b1c0",
   "metadata": {},
   "outputs": [],
   "source": [
    "class web_dev(pwskills):\n",
    "    def __init__(self,name,marks):\n",
    "        self.__name=name\n",
    "        self.__marks=marks\n",
    "        \n",
    "    def student_details(self):\n",
    "        return 'The student name is ',self.__name\n",
    "    \n",
    "    def marks_dsetails(self):\n",
    "        return 'The student marks are ',self.__marks"
   ]
  },
  {
   "cell_type": "code",
   "execution_count": 4,
   "id": "423b913d-156b-406d-927a-a46b57141823",
   "metadata": {},
   "outputs": [],
   "source": [
    "ram=data_science('Ram Ghosh','Oops assignment 2')"
   ]
  },
  {
   "cell_type": "code",
   "execution_count": 5,
   "id": "a57be530-ff21-42c8-8e62-3c2fda9f9ca0",
   "metadata": {},
   "outputs": [],
   "source": [
    "sam=web_dev('Sam Mondal',100)"
   ]
  },
  {
   "cell_type": "code",
   "execution_count": 6,
   "id": "028cdc5d-9822-4890-9ba2-d3369db43e52",
   "metadata": {},
   "outputs": [
    {
     "data": {
      "text/plain": [
       "('The name of the assignment is ', 'Oops assignment 2')"
      ]
     },
     "execution_count": 6,
     "metadata": {},
     "output_type": "execute_result"
    }
   ],
   "source": [
    "ram.assignment_details()"
   ]
  },
  {
   "cell_type": "code",
   "execution_count": 7,
   "id": "6f34d256-5cd6-4b6e-91f4-7c700bbb5546",
   "metadata": {},
   "outputs": [
    {
     "data": {
      "text/plain": [
       "('The name of the student is ', 'Ram Ghosh')"
      ]
     },
     "execution_count": 7,
     "metadata": {},
     "output_type": "execute_result"
    }
   ],
   "source": [
    "ram.student_details()"
   ]
  },
  {
   "cell_type": "code",
   "execution_count": 8,
   "id": "7050203a-306f-49b9-8190-7f2acc0dd9e5",
   "metadata": {},
   "outputs": [
    {
     "data": {
      "text/plain": [
       "('The student name is ', 'Sam Mondal')"
      ]
     },
     "execution_count": 8,
     "metadata": {},
     "output_type": "execute_result"
    }
   ],
   "source": [
    "sam.student_details()"
   ]
  },
  {
   "cell_type": "code",
   "execution_count": 9,
   "id": "957c17c9-d24a-4b7d-92ff-725a7cd5db0a",
   "metadata": {},
   "outputs": [
    {
     "data": {
      "text/plain": [
       "('The student marks are ', 100)"
      ]
     },
     "execution_count": 9,
     "metadata": {},
     "output_type": "execute_result"
    }
   ],
   "source": [
    "sam.marks_dsetails()"
   ]
  },
  {
   "cell_type": "code",
   "execution_count": null,
   "id": "ab3d2e56-ea27-4e9c-94b0-15a63ce85442",
   "metadata": {},
   "outputs": [],
   "source": [
    "Q2. Differentiate between Abstraction and Encapsulation. Explain with an example."
   ]
  },
  {
   "cell_type": "code",
   "execution_count": null,
   "id": "f54211be-74a1-4666-b229-73681cc7dd87",
   "metadata": {},
   "outputs": [],
   "source": [
    "Abstraction is a process of hiding the implementation details of a system from the user, and only the functional details\n",
    "will be available to the user end. On the other hand, Encapsulation is a method of wrapping up the data and code acting on \n",
    "the data into a single unit.In encapsulation, the variables of a class are hidden from other classes, and can be accessed \n",
    "only by methods of the current class. Therefore, encapsulation is also called data hiding."
   ]
  },
  {
   "cell_type": "code",
   "execution_count": 1,
   "id": "bbb03bcc-bf37-4922-8cae-539387cfa26d",
   "metadata": {},
   "outputs": [],
   "source": [
    "import abc\n",
    "class pwskills:\n",
    "    @abc.abstractmethod\n",
    "    def student_details(self):\n",
    "        pass\n",
    "    \n",
    "    @abc.abstractmethod\n",
    "    def assignment_details(self):\n",
    "        pass\n",
    "    \n",
    "    @abc.abstractmethod\n",
    "    def marks_dsetails(self):\n",
    "        pass\n",
    "    "
   ]
  },
  {
   "cell_type": "code",
   "execution_count": 2,
   "id": "a281b590-51bd-4226-a150-6fa07b24dd2f",
   "metadata": {},
   "outputs": [],
   "source": [
    "class data_science(pwskills):\n",
    "    def __init__(self,name,assignment):\n",
    "        self.__name=name\n",
    "        self.__assignment=assignment\n",
    "        \n",
    "    def student_details(self):\n",
    "        return 'The name of the student is ',self.__name\n",
    "    \n",
    "    def  assignment_details(self):\n",
    "        return 'The name of the assignment is ',self.__assignment"
   ]
  },
  {
   "cell_type": "code",
   "execution_count": 4,
   "id": "4d45126b-10e1-4466-99ec-46f38c7fd33d",
   "metadata": {},
   "outputs": [],
   "source": [
    "ram=data_science('Ram Ghosh','Oops assignment 2')"
   ]
  },
  {
   "cell_type": "code",
   "execution_count": null,
   "id": "34c60698-a695-4e8d-83a4-9643aa679cdd",
   "metadata": {},
   "outputs": [],
   "source": [
    "At this time user don't know how data_science class work. He only knows if he input some details he gets access of some\n",
    "function. This is what abstraction do"
   ]
  },
  {
   "cell_type": "code",
   "execution_count": 5,
   "id": "4cae5687-ae7c-4478-b89b-370bff1bb0a2",
   "metadata": {},
   "outputs": [
    {
     "data": {
      "text/plain": [
       "('The name of the assignment is ', 'Oops assignment 2')"
      ]
     },
     "execution_count": 5,
     "metadata": {},
     "output_type": "execute_result"
    }
   ],
   "source": [
    "ram.assignment_details()"
   ]
  },
  {
   "cell_type": "code",
   "execution_count": null,
   "id": "e079c115-7a86-4525-b004-e923b270ff82",
   "metadata": {},
   "outputs": [],
   "source": [
    "But the user never know about the instances or never get the access of instances"
   ]
  },
  {
   "cell_type": "code",
   "execution_count": null,
   "id": "52ee95b8-6546-47d0-a120-1a245f3137e6",
   "metadata": {},
   "outputs": [],
   "source": [
    "Q3. What is abc module in python? Why is it used?"
   ]
  },
  {
   "cell_type": "code",
   "execution_count": null,
   "id": "4b669611-0dc2-4e1f-8a77-fa0f54e7158e",
   "metadata": {},
   "outputs": [],
   "source": [
    " ABCs introduce virtual subclasses, which are classes that don’t inherit from a class but are still recognized by isinstance()\n",
    "and issubclass() functions. There are many built-in ABCs in Python. ABCs for Data structures like Iterator, Generator, \n",
    "Set, mapping etc. are defined in collections.abc module. The numbers module defines numeric tower which is a collection of\n",
    "base classes for numeric data types."
   ]
  },
  {
   "cell_type": "code",
   "execution_count": null,
   "id": "fd4900be-061d-41d3-96ed-9a2c3ca47cb2",
   "metadata": {},
   "outputs": [],
   "source": [
    "The 'abc'(Abstract Base Class) module in Python library provides the infrastructure for defining custom abstract base \n",
    "classes.'abc' works by marking methods of the base class as abstract. This is done by @absttractmethod decorator. For \n",
    "this reason we use abc module"
   ]
  },
  {
   "cell_type": "code",
   "execution_count": 6,
   "id": "ebb03cd8-74de-4b0b-aea6-593de44f6ac9",
   "metadata": {},
   "outputs": [],
   "source": [
    "import abc                      # This is the abc module by which we create abstract method\n",
    "class pwskills:\n",
    "    @abc.abstractmethod\n",
    "    def student_details(self):\n",
    "        pass\n",
    "    \n",
    "    @abc.abstractmethod\n",
    "    def assignment_details(self):\n",
    "        pass\n",
    "    \n",
    "    @abc.abstractmethod\n",
    "    def marks_dsetails(self):\n",
    "        pass"
   ]
  },
  {
   "cell_type": "code",
   "execution_count": null,
   "id": "b12b73ca-4993-4cee-8e96-ef4f888e6004",
   "metadata": {},
   "outputs": [],
   "source": [
    "Q4. How can we achieve data abstraction?"
   ]
  },
  {
   "cell_type": "code",
   "execution_count": 7,
   "id": "58507c9c-bf42-425e-a607-7f4c14f94a1d",
   "metadata": {},
   "outputs": [],
   "source": [
    "import abc\n",
    "class pwskills:\n",
    "    @abc.abstractmethod\n",
    "    def student_details(self):\n",
    "        print('print the input that is given by user')\n",
    "        pass\n"
   ]
  },
  {
   "cell_type": "code",
   "execution_count": 8,
   "id": "ae9b8d78-4c39-4fe6-b787-ea8a79f525ca",
   "metadata": {},
   "outputs": [],
   "source": [
    "class data_science(pwskills):\n",
    "    def __init__(self,name):\n",
    "        self.__name=name\n",
    "        \n",
    "    def student_details(self):\n",
    "        return 'The name of the student is ',self.__name"
   ]
  },
  {
   "cell_type": "code",
   "execution_count": 9,
   "id": "93b156ab-0a14-43ff-a2ec-802bb0a1e324",
   "metadata": {},
   "outputs": [],
   "source": [
    "class web_dev(pwskills):\n",
    "    def __init__(self,name):\n",
    "        self.__name=name\n",
    "        \n",
    "    def student_details(self):\n",
    "        return 'The student name is ',self.__name"
   ]
  },
  {
   "cell_type": "code",
   "execution_count": 4,
   "id": "550637d2-5a02-40cb-97cc-3a6ee91cf2fa",
   "metadata": {},
   "outputs": [],
   "source": [
    "ram=data_science('Ram Ghosh')"
   ]
  },
  {
   "cell_type": "code",
   "execution_count": 5,
   "id": "30c61118-335d-48c7-a21e-b159e90b4a13",
   "metadata": {},
   "outputs": [
    {
     "data": {
      "text/plain": [
       "('The name of the student is ', 'Ram Ghosh')"
      ]
     },
     "execution_count": 5,
     "metadata": {},
     "output_type": "execute_result"
    }
   ],
   "source": [
    "ram.student_details()"
   ]
  },
  {
   "cell_type": "code",
   "execution_count": 10,
   "id": "21b2b16e-7ce8-4f20-9f75-dc63ed4f2444",
   "metadata": {},
   "outputs": [],
   "source": [
    "sam=web_dev('Sam Mondal')"
   ]
  },
  {
   "cell_type": "code",
   "execution_count": 11,
   "id": "823c4411-bc97-4482-9151-b3ffde360b83",
   "metadata": {},
   "outputs": [
    {
     "data": {
      "text/plain": [
       "('The student name is ', 'Sam Mondal')"
      ]
     },
     "execution_count": 11,
     "metadata": {},
     "output_type": "execute_result"
    }
   ],
   "source": [
    "sam.student_details()"
   ]
  },
  {
   "cell_type": "code",
   "execution_count": null,
   "id": "c40e1f92-ef5d-4d56-9552-1ea55fd469fa",
   "metadata": {},
   "outputs": [],
   "source": [
    "By this we achive data abstraction....."
   ]
  },
  {
   "cell_type": "code",
   "execution_count": null,
   "id": "c4241ccc-efe5-4702-abff-c890a14c9e43",
   "metadata": {},
   "outputs": [],
   "source": [
    "Q5. Can we create an instance of an abstract class? Explain your answer."
   ]
  },
  {
   "cell_type": "code",
   "execution_count": null,
   "id": "ef19b4d3-c8b7-4ee3-bd78-48b69616ed7a",
   "metadata": {},
   "outputs": [],
   "source": [
    "Abstract classes are not complete, as they may have some methods that are not defined. So we cannot create an instance\n",
    "or object of an abstract class in Python"
   ]
  },
  {
   "cell_type": "code",
   "execution_count": 18,
   "id": "86b10ab2-a677-4599-98f4-70732437f7f8",
   "metadata": {},
   "outputs": [],
   "source": [
    "from abc import ABC,abstractmethod\n",
    "class pwskills(ABC):\n",
    "    @abc.abstractmethod\n",
    "    def student_details(self):\n",
    "        pass"
   ]
  },
  {
   "cell_type": "code",
   "execution_count": 19,
   "id": "f4f2eb5b-3b57-4dc9-9fae-6bbeef908b8e",
   "metadata": {},
   "outputs": [
    {
     "ename": "TypeError",
     "evalue": "Can't instantiate abstract class pwskills with abstract method student_details",
     "output_type": "error",
     "traceback": [
      "\u001b[0;31m---------------------------------------------------------------------------\u001b[0m",
      "\u001b[0;31mTypeError\u001b[0m                                 Traceback (most recent call last)",
      "Cell \u001b[0;32mIn[19], line 1\u001b[0m\n\u001b[0;32m----> 1\u001b[0m ram\u001b[38;5;241m=\u001b[39m\u001b[43mpwskills\u001b[49m\u001b[43m(\u001b[49m\u001b[43m)\u001b[49m\n",
      "\u001b[0;31mTypeError\u001b[0m: Can't instantiate abstract class pwskills with abstract method student_details"
     ]
    }
   ],
   "source": [
    "ram=pwskills()"
   ]
  },
  {
   "cell_type": "code",
   "execution_count": null,
   "id": "2d95024d-8f23-4b78-96d2-aba85a735c59",
   "metadata": {},
   "outputs": [],
   "source": []
  },
  {
   "cell_type": "code",
   "execution_count": null,
   "id": "50b9a70c-8b57-46fd-b665-59f51e7e0327",
   "metadata": {},
   "outputs": [],
   "source": []
  }
 ],
 "metadata": {
  "kernelspec": {
   "display_name": "Python 3 (ipykernel)",
   "language": "python",
   "name": "python3"
  },
  "language_info": {
   "codemirror_mode": {
    "name": "ipython",
    "version": 3
   },
   "file_extension": ".py",
   "mimetype": "text/x-python",
   "name": "python",
   "nbconvert_exporter": "python",
   "pygments_lexer": "ipython3",
   "version": "3.10.8"
  }
 },
 "nbformat": 4,
 "nbformat_minor": 5
}
